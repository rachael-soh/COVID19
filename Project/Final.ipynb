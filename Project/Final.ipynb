{
 "cells": [
  {
   "cell_type": "code",
   "execution_count": null,
   "metadata": {
    "scrolled": true
   },
   "outputs": [],
   "source": [
    "import pandas as pd\n",
    "import numpy as np\n",
    "import matplotlib.pyplot as plt\n",
    "from scipy import stats\n",
    "import matplotlib.dates as mdates\n",
    "import matplotlib.cm as cm\n",
    "import statsmodels.api as sm\n",
    "import os\n",
    "import glob"
   ]
  },
  {
   "cell_type": "code",
   "execution_count": null,
   "metadata": {
    "scrolled": true
   },
   "outputs": [],
   "source": [
    "#USEFUL BUT DON'T RUN AGAIN UNTIL NECESSARY!!!!!!\n",
    "\n",
    "from wwo_hist import retrieve_hist_data\n",
    "\n",
    "frequency = 24\n",
    "start_date = '1-JAN-2020'\n",
    "end_date = '14-MAY-2020'\n",
    "api_key = 'e72365de52ae4343a1185640200505'\n",
    "location_list = ['alabama','alaska','arizona','arkansas','california',\n",
    "                 'colorado','connecticut','delaware','florida','georgia',\n",
    "                 'hawaii','idaho','illinois','indiana','iowa','kansas',\n",
    "                 'kentucky','louisiana','maine','maryland','massachusetts',\n",
    "                'michigan','minnesota','mississippi','missouri','montana',\n",
    "                'nebraska','nevada','new-hampshire', 'new-jersey', 'new-mexico',\n",
    "                'new-york', 'north-carolina','north-dakota','ohio','oklahoma',\n",
    "                'oregon','pennsylvania','rhode-island','south-carolina',\n",
    "                'south-dakota', 'tennessee', 'texas','utah','vermont','virginia',\n",
    "                'washington','west-virginia','wisconsin','wyoming']\n",
    "hist_weather_data = retrieve_hist_data(api_key,\n",
    "                                location_list,\n",
    "                                start_date,\n",
    "                                end_date,\n",
    "                                frequency,\n",
    "                                location_label = False,\n",
    "                                export_csv = True,\n",
    "                                store_df = True)"
   ]
  },
  {
   "cell_type": "code",
   "execution_count": null,
   "metadata": {
    "scrolled": true
   },
   "outputs": [],
   "source": [
    "location_list = ['alabama','alaska','arizona','arkansas','california',\n",
    "                 'colorado','connecticut','delaware','florida','georgia',\n",
    "                 'hawaii','idaho','illinois','indiana','iowa','kansas',\n",
    "                 'kentucky','louisiana','maine','maryland','massachusetts',\n",
    "                'michigan','minnesota','mississippi','missouri','montana',\n",
    "                'nebraska','nevada','new-hampshire', 'new-jersey', 'new-mexico',\n",
    "                'new-york', 'north-carolina','north-dakota','ohio','oklahoma',\n",
    "                'oregon','pennsylvania','rhode-island','south-carolina',\n",
    "                'south-dakota', 'tennessee', 'texas','utah','vermont','virginia',\n",
    "                'washington','west-virginia','wisconsin','wyoming']"
   ]
  },
  {
   "cell_type": "code",
   "execution_count": null,
   "metadata": {
    "scrolled": true
   },
   "outputs": [],
   "source": []
  },
  {
   "cell_type": "code",
   "execution_count": null,
   "metadata": {
    "scrolled": true
   },
   "outputs": [],
   "source": [
    "# Load in U.S. specific data\n",
    "raw_states = pd.read_csv('USA_cases.csv')\n",
    "# population\n",
    "#https://github.com/camillol/cs424p3/blob/master/data/Population-Density%20By%20State.csv\n",
    "raw_pop = pd.read_csv('popdensity.csv')"
   ]
  },
  {
   "cell_type": "code",
   "execution_count": null,
   "metadata": {
    "scrolled": true
   },
   "outputs": [],
   "source": [
    "# Clean state case data\n",
    "US_data = raw_states.groupby(['Province_State']).sum()\n",
    "us_data = US_data.drop(['FIPS','Lat','Long_','code3','UID'],axis=1)\n",
    "us_data.columns = pd.to_datetime(us_data.columns)\n",
    "us_data.index = us_data.index.str.lower()\n",
    "us_data.index = us_data.index.str.replace(' ', '-')"
   ]
  },
  {
   "cell_type": "code",
   "execution_count": null,
   "metadata": {
    "scrolled": true
   },
   "outputs": [],
   "source": [
    "# clean pop data\n",
    "pop_data = raw_pop.drop([\"GEO.id\",\"GEO.id2\"],axis=1)\n",
    "pop_data = pop_data.set_index([\"GEO.display-label\"])\n",
    "pop_data.index = pop_data.index.str.lower()\n",
    "pop_data.index = pop_data.index.str.replace(' ', '-')"
   ]
  },
  {
   "cell_type": "code",
   "execution_count": null,
   "metadata": {
    "scrolled": true
   },
   "outputs": [],
   "source": [
    "# Load in weather\n",
    "def weather(locationL):\n",
    "    dfs = []\n",
    "    path = \"./states/\"\n",
    "    for i in range(len(locationL)):\n",
    "        df = pd.read_csv(path + locationL[i] +\".csv\")\n",
    "        df = df[['date_time','tempC','humidity','precipMM','windspeedKmph']]\n",
    "        df['date'] = pd.to_datetime(df['date_time'])\n",
    "        df.set_index('date',drop=True,inplace=True)\n",
    "        df = df.drop(['date_time'],axis=1)\n",
    "        popden = pop_data[\"Density per square mile of land area\"][i]\n",
    "        #Add popn density column\n",
    "        df['popden'] = [popden for i in range(len(df))]\n",
    "        dfs.append(df)\n",
    "    return dfs"
   ]
  },
  {
   "cell_type": "code",
   "execution_count": null,
   "metadata": {
    "scrolled": true
   },
   "outputs": [],
   "source": [
    "# Load in U.S. specific data\n",
    "\n",
    "weather_dfs = weather(location_list)"
   ]
  },
  {
   "cell_type": "code",
   "execution_count": null,
   "metadata": {
    "scrolled": true
   },
   "outputs": [],
   "source": [
    "# state data\n",
    "def state_cases(locationL):\n",
    "    dfs = []\n",
    "    for l in locationL:\n",
    "        df = us_data.loc[str(l)]\n",
    "        df = pd.DataFrame(df)\n",
    "        df.columns = ['cases']\n",
    "        dfs.append(df)\n",
    "    return dfs"
   ]
  },
  {
   "cell_type": "code",
   "execution_count": null,
   "metadata": {
    "scrolled": false
   },
   "outputs": [],
   "source": [
    "# Load in U.S. specific data\n",
    "case_dfs = state_cases(location_list)\n",
    "case_dfs"
   ]
  },
  {
   "cell_type": "code",
   "execution_count": null,
   "metadata": {
    "scrolled": true
   },
   "outputs": [],
   "source": [
    "# Total datset merges by state\n",
    "def mergeDF(casesL, weatherL):\n",
    "    dfs = []\n",
    "    for i in range(len(casesL)):\n",
    "        df = casesL[i].merge(weatherL[i],left_index=True, right_index=True)\n",
    "        dfs.append(df)\n",
    "    return dfs"
   ]
  },
  {
   "cell_type": "code",
   "execution_count": null,
   "metadata": {
    "scrolled": false
   },
   "outputs": [],
   "source": [
    "mergedDFs = mergeDF(case_dfs,weather_dfs)"
   ]
  },
  {
   "cell_type": "code",
   "execution_count": null,
   "metadata": {
    "scrolled": true
   },
   "outputs": [],
   "source": [
    "def getR(mergedDFs):\n",
    "    out = []\n",
    "    for df in mergedDFs:\n",
    "        df['I_n'] = df.cases.diff()\n",
    "        df.loc[df.cases>30]\n",
    "        rs = df.I_n / df.I_n.shift(1)\n",
    "        df['R'] = rs\n",
    "        df = df.replace([np.inf, -np.inf], np.nan)\n",
    "        df = df.dropna()\n",
    "        out.append(df)\n",
    "    return out\n"
   ]
  },
  {
   "cell_type": "code",
   "execution_count": null,
   "metadata": {
    "scrolled": false
   },
   "outputs": [],
   "source": [
    "final_dfs = getR(mergedDFs)\n",
    "colors = cm.rainbow(np.linspace(0, 1, 50))\n",
    "final_dfs"
   ]
  },
  {
   "cell_type": "code",
   "execution_count": null,
   "metadata": {
    "scrolled": true
   },
   "outputs": [],
   "source": [
    "def plt_scatter(final_dfs,colors, element):\n",
    "    for i in range(len(final_dfs)):\n",
    "        plt.scatter(final_dfs[i][element], final_dfs[i].R, color=colors[i])\n",
    "    plt.ylabel('R')\n",
    "    plt.xlabel(element)\n",
    "    plt.title('R  vs. ' + element)\n",
    "    plt.show()"
   ]
  },
  {
   "cell_type": "code",
   "execution_count": null,
   "metadata": {
    "scrolled": true
   },
   "outputs": [],
   "source": [
    "plt_scatter(final_dfs,colors,'tempC')\n",
    "plt_scatter(final_dfs,colors,'humidity')\n",
    "plt_scatter(final_dfs,colors,'precipMM')\n",
    "plt_scatter(final_dfs,colors,'windspeedKmph')"
   ]
  },
  {
   "cell_type": "code",
   "execution_count": null,
   "metadata": {
    "scrolled": true
   },
   "outputs": [],
   "source": [
    "def lin_reg(final_dfs, location_list, element):\n",
    "    # Linear regression using scipy\n",
    "    output = pd.DataFrame(columns=['p_value','R^2','slope'])\n",
    "    for i in range(len(final_dfs)):\n",
    "        slope, intercept, r_value, p_value, std_err = stats.linregress(final_dfs[i][element], final_dfs[i].R)\n",
    "        Rsq = r_value**2\n",
    "        output.loc[str(location_list[i])] = [p_value, Rsq , slope]\n",
    "    return output"
   ]
  },
  {
   "cell_type": "code",
   "execution_count": null,
   "metadata": {
    "scrolled": false
   },
   "outputs": [],
   "source": [
    "temp = lin_reg(final_dfs,location_list,'tempC')\n",
    "humid = lin_reg(final_dfs,location_list,'humidity')\n",
    "rain = lin_reg(final_dfs,location_list,'precipMM')\n",
    "wind = lin_reg(final_dfs,location_list,'windspeedKmph')\n",
    "print(temp[temp.p_value<0.05])\n",
    "print(humid[humid.p_value<0.05])\n",
    "print(rain[rain.p_value<0.05])\n",
    "print(wind[wind.p_value<0.05])"
   ]
  },
  {
   "cell_type": "code",
   "execution_count": 455,
   "metadata": {
    "scrolled": true
   },
   "outputs": [],
   "source": [
    "def ols(final_dfs, location_list):\n",
    "    # Linear regression using scipy\n",
    "    output = pd.DataFrame(columns=[\"Intercept\",\"tempC\",'precipMM','windspeedKmph','humidity','precipMM:windspeedKmph','precipMM:humidity','windspeedKmph:humidity','tempC:humidity','tempC:windspeedKmph','tempC:precipMM','popden'])\n",
    "    coeffs = pd.DataFrame(columns=[\"Intercept\",\"tempC\",'precipMM','windspeedKmph','humidity','precipMM:windspeedKmph','precipMM:humidity','windspeedKmph:humidity','tempC:humidity','tempC:windspeedKmph','tempC:precipMM','popden'])\n",
    "\n",
    "    for i in range(len(final_dfs)):\n",
    "        model_lin = sm.OLS.from_formula(\"R~tempC+precipMM+windspeedKmph+humidity+precipMM:windspeedKmph+precipMM:humidity+windspeedKmph:humidity+tempC:humidity+tempC:windspeedKmph+tempC:precipMM+popden\", data=final_dfs[i])\n",
    "        result_lin = model_lin.fit()\n",
    "        #print(result_lin.summary())\n",
    "        #print(result_lin.params)\n",
    "        output.loc[location_list[i]] = [i for i in result_lin.pvalues]\n",
    "        coeffs.loc[location_list[i]] = [i for i in result_lin.params]\n",
    "        #output.loc[str(location_list[i])] = [i for i in result_lin.params]\n",
    "    return output, coeffs\n"
   ]
  },
  {
   "cell_type": "code",
   "execution_count": 463,
   "metadata": {
    "scrolled": true
   },
   "outputs": [
    {
     "name": "stdout",
     "output_type": "stream",
     "text": [
      "Intercept                -0.018997\n",
      "tempC                     0.767247\n",
      "precipMM                 -2.236770\n",
      "windspeedKmph             2.011400\n",
      "humidity                  1.143010\n",
      "precipMM:windspeedKmph    0.085731\n",
      "precipMM:humidity        -0.004666\n",
      "windspeedKmph:humidity   -0.043902\n",
      "tempC:humidity           -0.027718\n",
      "tempC:windspeedKmph       0.067724\n",
      "tempC:precipMM            0.063314\n",
      "popden                   -1.063833\n",
      "Name: arkansas, dtype: float64\n",
      "Intercept                 0.000040\n",
      "tempC                    -1.068331\n",
      "precipMM                 -0.590428\n",
      "windspeedKmph            -0.529436\n",
      "humidity                 -0.247378\n",
      "precipMM:windspeedKmph    0.001652\n",
      "precipMM:humidity         0.008309\n",
      "windspeedKmph:humidity    0.005669\n",
      "tempC:humidity            0.012101\n",
      "tempC:windspeedKmph       0.007977\n",
      "tempC:precipMM           -0.011275\n",
      "popden                    0.029779\n",
      "Name: connecticut, dtype: float64\n",
      "Intercept                   0.000033\n",
      "tempC                    -109.200567\n",
      "precipMM                  -20.548186\n",
      "windspeedKmph            -199.602767\n",
      "humidity                  -26.859876\n",
      "precipMM:windspeedKmph      0.481335\n",
      "precipMM:humidity           0.136056\n",
      "windspeedKmph:humidity      0.425224\n",
      "tempC:humidity              0.883835\n",
      "tempC:windspeedKmph         6.141153\n",
      "tempC:precipMM              0.265648\n",
      "popden                      0.323060\n",
      "Name: florida, dtype: float64\n",
      "Intercept                -0.000019\n",
      "tempC                    -0.138893\n",
      "precipMM                 -0.524924\n",
      "windspeedKmph             0.999595\n",
      "humidity                  0.036835\n",
      "precipMM:windspeedKmph    0.006166\n",
      "precipMM:humidity         0.005469\n",
      "windspeedKmph:humidity   -0.012668\n",
      "tempC:humidity            0.003533\n",
      "tempC:windspeedKmph      -0.012118\n",
      "tempC:precipMM            0.003925\n",
      "popden                   -0.006734\n",
      "Name: georgia, dtype: float64\n",
      "Intercept                -0.010664\n",
      "tempC                     2.838715\n",
      "precipMM                  0.002778\n",
      "windspeedKmph             4.715639\n",
      "humidity                  1.698013\n",
      "precipMM:windspeedKmph    0.022220\n",
      "precipMM:humidity         0.044441\n",
      "windspeedKmph:humidity    0.002519\n",
      "tempC:humidity           -0.041875\n",
      "tempC:windspeedKmph      -0.112904\n",
      "tempC:precipMM            0.111102\n",
      "popden                   -1.118662\n",
      "Name: maine, dtype: float64\n",
      "Intercept                 0.001017\n",
      "tempC                     0.158065\n",
      "precipMM                  0.061863\n",
      "windspeedKmph            -0.010202\n",
      "humidity                 -0.088735\n",
      "precipMM:windspeedKmph   -0.005344\n",
      "precipMM:humidity         0.001278\n",
      "windspeedKmph:humidity    0.004576\n",
      "tempC:humidity            0.001567\n",
      "tempC:windspeedKmph      -0.014618\n",
      "tempC:precipMM           -0.005691\n",
      "popden                    0.043829\n",
      "Name: maryland, dtype: float64\n",
      "Intercept                 0.000011\n",
      "tempC                    -0.056588\n",
      "precipMM                  0.072923\n",
      "windspeedKmph            -0.139031\n",
      "humidity                 -0.040027\n",
      "precipMM:windspeedKmph   -0.002753\n",
      "precipMM:humidity         0.000480\n",
      "windspeedKmph:humidity    0.001672\n",
      "tempC:humidity            0.000360\n",
      "tempC:windspeedKmph       0.002802\n",
      "tempC:precipMM           -0.003366\n",
      "popden                    0.006420\n",
      "Name: massachusetts, dtype: float64\n",
      "Intercept                  0.008920\n",
      "tempC                     -1.470843\n",
      "precipMM                  17.751672\n",
      "windspeedKmph             -3.428165\n",
      "humidity                   0.384013\n",
      "precipMM:windspeedKmph    -0.066915\n",
      "precipMM:humidity         -0.064053\n",
      "windspeedKmph:humidity    -0.009756\n",
      "tempC:humidity            -0.007237\n",
      "tempC:windspeedKmph        0.135094\n",
      "tempC:precipMM            -0.431559\n",
      "popden                     0.563749\n",
      "Name: missouri, dtype: float64\n",
      "Intercept                 0.000045\n",
      "tempC                    -0.425068\n",
      "precipMM                  0.151950\n",
      "windspeedKmph            -0.240439\n",
      "humidity                  0.001119\n",
      "precipMM:windspeedKmph   -0.001299\n",
      "precipMM:humidity        -0.002394\n",
      "windspeedKmph:humidity   -0.002613\n",
      "tempC:humidity            0.001828\n",
      "tempC:windspeedKmph       0.018721\n",
      "tempC:precipMM            0.004442\n",
      "popden                    0.018318\n",
      "Name: north-carolina, dtype: float64\n",
      "Intercept                 0.084385\n",
      "tempC                    -0.330762\n",
      "precipMM                  0.405894\n",
      "windspeedKmph            -0.224211\n",
      "humidity                 -0.081742\n",
      "precipMM:windspeedKmph    0.009496\n",
      "precipMM:humidity        -0.005401\n",
      "windspeedKmph:humidity    0.002449\n",
      "tempC:humidity            0.004210\n",
      "tempC:windspeedKmph      -0.000752\n",
      "tempC:precipMM           -0.002468\n",
      "popden                    0.818531\n",
      "Name: ohio, dtype: float64\n",
      "Intercept                 0.000032\n",
      "tempC                    -0.133170\n",
      "precipMM                 -0.283184\n",
      "windspeedKmph            -0.038843\n",
      "humidity                 -0.009556\n",
      "precipMM:windspeedKmph    0.001136\n",
      "precipMM:humidity         0.005761\n",
      "windspeedKmph:humidity   -0.000588\n",
      "tempC:humidity            0.001568\n",
      "tempC:windspeedKmph       0.003282\n",
      "tempC:precipMM           -0.009880\n",
      "popden                    0.009058\n",
      "Name: oklahoma, dtype: float64\n",
      "Intercept                 0.000155\n",
      "tempC                    -0.179589\n",
      "precipMM                  2.141632\n",
      "windspeedKmph            -0.118616\n",
      "humidity                 -0.038676\n",
      "precipMM:windspeedKmph   -0.013579\n",
      "precipMM:humidity        -0.017838\n",
      "windspeedKmph:humidity    0.001152\n",
      "tempC:humidity            0.002029\n",
      "tempC:windspeedKmph       0.005631\n",
      "tempC:precipMM           -0.035585\n",
      "popden                    0.023802\n",
      "Name: south-dakota, dtype: float64\n",
      "Intercept                -0.002084\n",
      "tempC                     0.134938\n",
      "precipMM                  2.844948\n",
      "windspeedKmph             1.978962\n",
      "humidity                  0.283352\n",
      "precipMM:windspeedKmph    0.091879\n",
      "precipMM:humidity        -0.044644\n",
      "windspeedKmph:humidity   -0.025121\n",
      "tempC:humidity            0.006481\n",
      "tempC:windspeedKmph      -0.039579\n",
      "tempC:precipMM           -0.021978\n",
      "popden                   -0.218848\n",
      "Name: wyoming, dtype: float64\n"
     ]
    }
   ],
   "source": [
    "olsout, coeffs = ols(final_dfs, location_list)\n",
    "olsout = olsout[olsout<0.05]\n",
    "olsout = olsout.dropna(how='all')\n",
    "\n",
    "for i in olsout.index:\n",
    "    print(coeffs.loc[i])\n",
    "\n"
   ]
  },
  {
   "cell_type": "code",
   "execution_count": null,
   "metadata": {
    "scrolled": false
   },
   "outputs": [],
   "source": [
    "def ols_p(final_dfs, location_list):\n",
    "    # Linear regression using scipy\n",
    "    output = pd.DataFrame(columns=[\"Intercept\",\"tempC\",'windspeedKmph','humidity','windspeedKmph:humidity','tempC:humidity','tempC:windspeedKmph','popden'])\n",
    "    coeffs = pd.DataFrame(columns=[\"Intercept\",\"tempC\",'windspeedKmph','humidity','windspeedKmph:humidity','tempC:humidity','tempC:windspeedKmph','popden'])\n",
    "    for i in range(len(final_dfs)):\n",
    "        model_lin = sm.OLS.from_formula(\"R~tempC+windspeedKmph+humidity+windspeedKmph:humidity+tempC:humidity+tempC:windspeedKmph+popden\", data=final_dfs[i])\n",
    "        result_lin = model_lin.fit()\n",
    "        output.loc[str(location_list[i])] = [i for i in result_lin.pvalues]\n",
    "        #coeffs.loc[str(location_list[i])] = [i for i in result_lin.params]\n",
    "        #print(result_lin.summary())\n",
    "    return output, coeffs"
   ]
  },
  {
   "cell_type": "code",
   "execution_count": 448,
   "metadata": {
    "scrolled": true
   },
   "outputs": [
    {
     "data": {
      "text/html": [
       "<div>\n",
       "<style scoped>\n",
       "    .dataframe tbody tr th:only-of-type {\n",
       "        vertical-align: middle;\n",
       "    }\n",
       "\n",
       "    .dataframe tbody tr th {\n",
       "        vertical-align: top;\n",
       "    }\n",
       "\n",
       "    .dataframe thead th {\n",
       "        text-align: right;\n",
       "    }\n",
       "</style>\n",
       "<table border=\"1\" class=\"dataframe\">\n",
       "  <thead>\n",
       "    <tr style=\"text-align: right;\">\n",
       "      <th></th>\n",
       "      <th>Intercept</th>\n",
       "      <th>tempC</th>\n",
       "      <th>windspeedKmph</th>\n",
       "      <th>humidity</th>\n",
       "      <th>windspeedKmph:humidity</th>\n",
       "      <th>tempC:humidity</th>\n",
       "      <th>tempC:windspeedKmph</th>\n",
       "      <th>popden</th>\n",
       "    </tr>\n",
       "  </thead>\n",
       "  <tbody>\n",
       "    <tr>\n",
       "      <th>arizona</th>\n",
       "      <td>NaN</td>\n",
       "      <td>NaN</td>\n",
       "      <td>NaN</td>\n",
       "      <td>NaN</td>\n",
       "      <td>NaN</td>\n",
       "      <td>0.047227</td>\n",
       "      <td>NaN</td>\n",
       "      <td>NaN</td>\n",
       "    </tr>\n",
       "    <tr>\n",
       "      <th>arkansas</th>\n",
       "      <td>NaN</td>\n",
       "      <td>NaN</td>\n",
       "      <td>NaN</td>\n",
       "      <td>0.045851</td>\n",
       "      <td>NaN</td>\n",
       "      <td>NaN</td>\n",
       "      <td>NaN</td>\n",
       "      <td>NaN</td>\n",
       "    </tr>\n",
       "    <tr>\n",
       "      <th>connecticut</th>\n",
       "      <td>0.019324</td>\n",
       "      <td>NaN</td>\n",
       "      <td>NaN</td>\n",
       "      <td>NaN</td>\n",
       "      <td>NaN</td>\n",
       "      <td>NaN</td>\n",
       "      <td>NaN</td>\n",
       "      <td>0.019324</td>\n",
       "    </tr>\n",
       "    <tr>\n",
       "      <th>georgia</th>\n",
       "      <td>NaN</td>\n",
       "      <td>NaN</td>\n",
       "      <td>0.010021</td>\n",
       "      <td>NaN</td>\n",
       "      <td>0.00438</td>\n",
       "      <td>NaN</td>\n",
       "      <td>NaN</td>\n",
       "      <td>NaN</td>\n",
       "    </tr>\n",
       "    <tr>\n",
       "      <th>maine</th>\n",
       "      <td>0.000708</td>\n",
       "      <td>0.000553</td>\n",
       "      <td>0.014874</td>\n",
       "      <td>NaN</td>\n",
       "      <td>NaN</td>\n",
       "      <td>NaN</td>\n",
       "      <td>0.016417</td>\n",
       "      <td>0.000708</td>\n",
       "    </tr>\n",
       "    <tr>\n",
       "      <th>maryland</th>\n",
       "      <td>NaN</td>\n",
       "      <td>NaN</td>\n",
       "      <td>NaN</td>\n",
       "      <td>NaN</td>\n",
       "      <td>NaN</td>\n",
       "      <td>NaN</td>\n",
       "      <td>0.003534</td>\n",
       "      <td>NaN</td>\n",
       "    </tr>\n",
       "    <tr>\n",
       "      <th>north-carolina</th>\n",
       "      <td>0.014156</td>\n",
       "      <td>0.016443</td>\n",
       "      <td>NaN</td>\n",
       "      <td>NaN</td>\n",
       "      <td>NaN</td>\n",
       "      <td>NaN</td>\n",
       "      <td>0.000937</td>\n",
       "      <td>0.014156</td>\n",
       "    </tr>\n",
       "    <tr>\n",
       "      <th>wyoming</th>\n",
       "      <td>NaN</td>\n",
       "      <td>NaN</td>\n",
       "      <td>0.018437</td>\n",
       "      <td>NaN</td>\n",
       "      <td>NaN</td>\n",
       "      <td>NaN</td>\n",
       "      <td>NaN</td>\n",
       "      <td>NaN</td>\n",
       "    </tr>\n",
       "  </tbody>\n",
       "</table>\n",
       "</div>"
      ],
      "text/plain": [
       "                Intercept     tempC  windspeedKmph  humidity  windspeedKmph:humidity  tempC:humidity  tempC:windspeedKmph    popden\n",
       "arizona               NaN       NaN            NaN       NaN                     NaN        0.047227                  NaN       NaN\n",
       "arkansas              NaN       NaN            NaN  0.045851                     NaN             NaN                  NaN       NaN\n",
       "connecticut      0.019324       NaN            NaN       NaN                     NaN             NaN                  NaN  0.019324\n",
       "georgia               NaN       NaN       0.010021       NaN                 0.00438             NaN                  NaN       NaN\n",
       "maine            0.000708  0.000553       0.014874       NaN                     NaN             NaN             0.016417  0.000708\n",
       "maryland              NaN       NaN            NaN       NaN                     NaN             NaN             0.003534       NaN\n",
       "north-carolina   0.014156  0.016443            NaN       NaN                     NaN             NaN             0.000937  0.014156\n",
       "wyoming               NaN       NaN       0.018437       NaN                     NaN             NaN                  NaN       NaN"
      ]
     },
     "execution_count": 448,
     "metadata": {},
     "output_type": "execute_result"
    }
   ],
   "source": [
    "out = ols_p(final_dfs, location_list)\n",
    "out = out[out<0.05]\n",
    "\n",
    "out = out.dropna(how='all')\n",
    "out"
   ]
  },
  {
   "cell_type": "code",
   "execution_count": null,
   "metadata": {
    "scrolled": true
   },
   "outputs": [],
   "source": []
  },
  {
   "cell_type": "code",
   "execution_count": null,
   "metadata": {
    "scrolled": true
   },
   "outputs": [],
   "source": []
  },
  {
   "cell_type": "code",
   "execution_count": null,
   "metadata": {
    "scrolled": true
   },
   "outputs": [],
   "source": []
  },
  {
   "cell_type": "code",
   "execution_count": null,
   "metadata": {
    "scrolled": true
   },
   "outputs": [],
   "source": []
  }
 ],
 "metadata": {
  "celltoolbar": "Raw Cell Format",
  "kernelspec": {
   "display_name": "Python 3",
   "language": "python",
   "name": "python3"
  },
  "language_info": {
   "codemirror_mode": {
    "name": "ipython",
    "version": 3
   },
   "file_extension": ".py",
   "mimetype": "text/x-python",
   "name": "python",
   "nbconvert_exporter": "python",
   "pygments_lexer": "ipython3",
   "version": "3.7.6"
  }
 },
 "nbformat": 4,
 "nbformat_minor": 4
}
