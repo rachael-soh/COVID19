{
 "cells": [
  {
   "cell_type": "markdown",
   "metadata": {},
   "source": [
    "# Homework 1: Analyzing COVID-19 Data with Regression"
   ]
  },
  {
   "cell_type": "markdown",
   "metadata": {},
   "source": [
    "In the coding part of this assignment we will conduct regression analysis on COVID-19 data to understand variables that affect COVID-19 growth rate. \n",
    "\n",
    "To complete this part of the assignment, follow along with the data loading and cleaning (running each cell as you go), looking up functions you are unfamiliar with and making sure you understand each step. While this part is not super fun, it is very important that you understand and are familiar with techniques for data manipulation so that you can use them later. When you arrive at the tasks, follow the instructions and then get started on your own research. \n",
    "\n",
    "Check out [this](https://www.dataquest.io/blog/jupyter-notebook-tips-tricks-shortcuts/) blog post for some Jupyter Notebook tips to get that work ~flowing~. Also, we use Pandas a lot in this assignment so if you are unfamiliar with this package and run into trouble, we recommend you check out a tutorial online. \n"
   ]
  },
  {
   "cell_type": "code",
   "execution_count": 3,
   "metadata": {},
   "outputs": [],
   "source": [
    "import pandas as pd\n",
    "import numpy as np\n",
    "import matplotlib.pyplot as plt\n",
    "from scipy import stats\n",
    "import matplotlib.dates as mdates"
   ]
  },
  {
   "cell_type": "markdown",
   "metadata": {},
   "source": [
    "## Loading Data\n",
    "\n",
    "We got our data from Johns Hopkins Hopkins University. It gives us cumulative totals for confirmed cases, deaths, and recovered cases on the country level. The most up-to-date data can be found [here](https://data.humdata.org/dataset/novel-coronavirus-2019-ncov-cases) "
   ]
  },
  {
   "cell_type": "code",
   "execution_count": 4,
   "metadata": {},
   "outputs": [],
   "source": [
    "raw_confirmed = pd.read_csv('time_series_covid19_confirmed_global.csv')\n",
    "raw_deaths = pd.read_csv('time_series_covid19_deaths_global.csv')\n",
    "raw_recovered = pd.read_csv('time_series_covid19_recovered_global.csv')"
   ]
  },
  {
   "cell_type": "markdown",
   "metadata": {},
   "source": [
    "### Take a look at the structure of the data (the other data tables have the same structure)"
   ]
  },
  {
   "cell_type": "code",
   "execution_count": 5,
   "metadata": {},
   "outputs": [
    {
     "data": {
      "text/html": [
       "<div>\n",
       "<style scoped>\n",
       "    .dataframe tbody tr th:only-of-type {\n",
       "        vertical-align: middle;\n",
       "    }\n",
       "\n",
       "    .dataframe tbody tr th {\n",
       "        vertical-align: top;\n",
       "    }\n",
       "\n",
       "    .dataframe thead th {\n",
       "        text-align: right;\n",
       "    }\n",
       "</style>\n",
       "<table border=\"1\" class=\"dataframe\">\n",
       "  <thead>\n",
       "    <tr style=\"text-align: right;\">\n",
       "      <th></th>\n",
       "      <th>Province/State</th>\n",
       "      <th>Country/Region</th>\n",
       "      <th>Lat</th>\n",
       "      <th>Long</th>\n",
       "      <th>1/22/20</th>\n",
       "      <th>1/23/20</th>\n",
       "      <th>1/24/20</th>\n",
       "      <th>1/25/20</th>\n",
       "      <th>1/26/20</th>\n",
       "      <th>1/27/20</th>\n",
       "      <th>...</th>\n",
       "      <th>3/24/20</th>\n",
       "      <th>3/25/20</th>\n",
       "      <th>3/26/20</th>\n",
       "      <th>3/27/20</th>\n",
       "      <th>3/28/20</th>\n",
       "      <th>3/29/20</th>\n",
       "      <th>3/30/20</th>\n",
       "      <th>3/31/20</th>\n",
       "      <th>4/1/20</th>\n",
       "      <th>4/2/20</th>\n",
       "    </tr>\n",
       "  </thead>\n",
       "  <tbody>\n",
       "    <tr>\n",
       "      <th>0</th>\n",
       "      <td>NaN</td>\n",
       "      <td>Afghanistan</td>\n",
       "      <td>33.0000</td>\n",
       "      <td>65.0000</td>\n",
       "      <td>0</td>\n",
       "      <td>0</td>\n",
       "      <td>0</td>\n",
       "      <td>0</td>\n",
       "      <td>0</td>\n",
       "      <td>0</td>\n",
       "      <td>...</td>\n",
       "      <td>74</td>\n",
       "      <td>84</td>\n",
       "      <td>94</td>\n",
       "      <td>110</td>\n",
       "      <td>110</td>\n",
       "      <td>120</td>\n",
       "      <td>170</td>\n",
       "      <td>174</td>\n",
       "      <td>237</td>\n",
       "      <td>273</td>\n",
       "    </tr>\n",
       "    <tr>\n",
       "      <th>1</th>\n",
       "      <td>NaN</td>\n",
       "      <td>Albania</td>\n",
       "      <td>41.1533</td>\n",
       "      <td>20.1683</td>\n",
       "      <td>0</td>\n",
       "      <td>0</td>\n",
       "      <td>0</td>\n",
       "      <td>0</td>\n",
       "      <td>0</td>\n",
       "      <td>0</td>\n",
       "      <td>...</td>\n",
       "      <td>123</td>\n",
       "      <td>146</td>\n",
       "      <td>174</td>\n",
       "      <td>186</td>\n",
       "      <td>197</td>\n",
       "      <td>212</td>\n",
       "      <td>223</td>\n",
       "      <td>243</td>\n",
       "      <td>259</td>\n",
       "      <td>277</td>\n",
       "    </tr>\n",
       "    <tr>\n",
       "      <th>2</th>\n",
       "      <td>NaN</td>\n",
       "      <td>Algeria</td>\n",
       "      <td>28.0339</td>\n",
       "      <td>1.6596</td>\n",
       "      <td>0</td>\n",
       "      <td>0</td>\n",
       "      <td>0</td>\n",
       "      <td>0</td>\n",
       "      <td>0</td>\n",
       "      <td>0</td>\n",
       "      <td>...</td>\n",
       "      <td>264</td>\n",
       "      <td>302</td>\n",
       "      <td>367</td>\n",
       "      <td>409</td>\n",
       "      <td>454</td>\n",
       "      <td>511</td>\n",
       "      <td>584</td>\n",
       "      <td>716</td>\n",
       "      <td>847</td>\n",
       "      <td>986</td>\n",
       "    </tr>\n",
       "    <tr>\n",
       "      <th>3</th>\n",
       "      <td>NaN</td>\n",
       "      <td>Andorra</td>\n",
       "      <td>42.5063</td>\n",
       "      <td>1.5218</td>\n",
       "      <td>0</td>\n",
       "      <td>0</td>\n",
       "      <td>0</td>\n",
       "      <td>0</td>\n",
       "      <td>0</td>\n",
       "      <td>0</td>\n",
       "      <td>...</td>\n",
       "      <td>164</td>\n",
       "      <td>188</td>\n",
       "      <td>224</td>\n",
       "      <td>267</td>\n",
       "      <td>308</td>\n",
       "      <td>334</td>\n",
       "      <td>370</td>\n",
       "      <td>376</td>\n",
       "      <td>390</td>\n",
       "      <td>428</td>\n",
       "    </tr>\n",
       "    <tr>\n",
       "      <th>4</th>\n",
       "      <td>NaN</td>\n",
       "      <td>Angola</td>\n",
       "      <td>-11.2027</td>\n",
       "      <td>17.8739</td>\n",
       "      <td>0</td>\n",
       "      <td>0</td>\n",
       "      <td>0</td>\n",
       "      <td>0</td>\n",
       "      <td>0</td>\n",
       "      <td>0</td>\n",
       "      <td>...</td>\n",
       "      <td>3</td>\n",
       "      <td>3</td>\n",
       "      <td>4</td>\n",
       "      <td>4</td>\n",
       "      <td>5</td>\n",
       "      <td>7</td>\n",
       "      <td>7</td>\n",
       "      <td>7</td>\n",
       "      <td>8</td>\n",
       "      <td>8</td>\n",
       "    </tr>\n",
       "  </tbody>\n",
       "</table>\n",
       "<p>5 rows × 76 columns</p>\n",
       "</div>"
      ],
      "text/plain": [
       "  Province/State Country/Region      Lat     Long  1/22/20  1/23/20  1/24/20  \\\n",
       "0            NaN    Afghanistan  33.0000  65.0000        0        0        0   \n",
       "1            NaN        Albania  41.1533  20.1683        0        0        0   \n",
       "2            NaN        Algeria  28.0339   1.6596        0        0        0   \n",
       "3            NaN        Andorra  42.5063   1.5218        0        0        0   \n",
       "4            NaN         Angola -11.2027  17.8739        0        0        0   \n",
       "\n",
       "   1/25/20  1/26/20  1/27/20  ...  3/24/20  3/25/20  3/26/20  3/27/20  \\\n",
       "0        0        0        0  ...       74       84       94      110   \n",
       "1        0        0        0  ...      123      146      174      186   \n",
       "2        0        0        0  ...      264      302      367      409   \n",
       "3        0        0        0  ...      164      188      224      267   \n",
       "4        0        0        0  ...        3        3        4        4   \n",
       "\n",
       "   3/28/20  3/29/20  3/30/20  3/31/20  4/1/20  4/2/20  \n",
       "0      110      120      170      174     237     273  \n",
       "1      197      212      223      243     259     277  \n",
       "2      454      511      584      716     847     986  \n",
       "3      308      334      370      376     390     428  \n",
       "4        5        7        7        7       8       8  \n",
       "\n",
       "[5 rows x 76 columns]"
      ]
     },
     "execution_count": 5,
     "metadata": {},
     "output_type": "execute_result"
    }
   ],
   "source": [
    "raw_confirmed.head()"
   ]
  },
  {
   "cell_type": "code",
   "execution_count": 6,
   "metadata": {},
   "outputs": [
    {
     "data": {
      "text/html": [
       "<div>\n",
       "<style scoped>\n",
       "    .dataframe tbody tr th:only-of-type {\n",
       "        vertical-align: middle;\n",
       "    }\n",
       "\n",
       "    .dataframe tbody tr th {\n",
       "        vertical-align: top;\n",
       "    }\n",
       "\n",
       "    .dataframe thead th {\n",
       "        text-align: right;\n",
       "    }\n",
       "</style>\n",
       "<table border=\"1\" class=\"dataframe\">\n",
       "  <thead>\n",
       "    <tr style=\"text-align: right;\">\n",
       "      <th></th>\n",
       "      <th>1/22/20</th>\n",
       "      <th>1/23/20</th>\n",
       "      <th>1/24/20</th>\n",
       "      <th>1/25/20</th>\n",
       "      <th>1/26/20</th>\n",
       "      <th>1/27/20</th>\n",
       "      <th>1/28/20</th>\n",
       "      <th>1/29/20</th>\n",
       "      <th>1/30/20</th>\n",
       "      <th>1/31/20</th>\n",
       "      <th>...</th>\n",
       "      <th>3/24/20</th>\n",
       "      <th>3/25/20</th>\n",
       "      <th>3/26/20</th>\n",
       "      <th>3/27/20</th>\n",
       "      <th>3/28/20</th>\n",
       "      <th>3/29/20</th>\n",
       "      <th>3/30/20</th>\n",
       "      <th>3/31/20</th>\n",
       "      <th>4/1/20</th>\n",
       "      <th>4/2/20</th>\n",
       "    </tr>\n",
       "    <tr>\n",
       "      <th>Country/Region</th>\n",
       "      <th></th>\n",
       "      <th></th>\n",
       "      <th></th>\n",
       "      <th></th>\n",
       "      <th></th>\n",
       "      <th></th>\n",
       "      <th></th>\n",
       "      <th></th>\n",
       "      <th></th>\n",
       "      <th></th>\n",
       "      <th></th>\n",
       "      <th></th>\n",
       "      <th></th>\n",
       "      <th></th>\n",
       "      <th></th>\n",
       "      <th></th>\n",
       "      <th></th>\n",
       "      <th></th>\n",
       "      <th></th>\n",
       "      <th></th>\n",
       "      <th></th>\n",
       "    </tr>\n",
       "  </thead>\n",
       "  <tbody>\n",
       "    <tr>\n",
       "      <th>Afghanistan</th>\n",
       "      <td>0</td>\n",
       "      <td>0</td>\n",
       "      <td>0</td>\n",
       "      <td>0</td>\n",
       "      <td>0</td>\n",
       "      <td>0</td>\n",
       "      <td>0</td>\n",
       "      <td>0</td>\n",
       "      <td>0</td>\n",
       "      <td>0</td>\n",
       "      <td>...</td>\n",
       "      <td>74</td>\n",
       "      <td>84</td>\n",
       "      <td>94</td>\n",
       "      <td>110</td>\n",
       "      <td>110</td>\n",
       "      <td>120</td>\n",
       "      <td>170</td>\n",
       "      <td>174</td>\n",
       "      <td>237</td>\n",
       "      <td>273</td>\n",
       "    </tr>\n",
       "    <tr>\n",
       "      <th>Albania</th>\n",
       "      <td>0</td>\n",
       "      <td>0</td>\n",
       "      <td>0</td>\n",
       "      <td>0</td>\n",
       "      <td>0</td>\n",
       "      <td>0</td>\n",
       "      <td>0</td>\n",
       "      <td>0</td>\n",
       "      <td>0</td>\n",
       "      <td>0</td>\n",
       "      <td>...</td>\n",
       "      <td>123</td>\n",
       "      <td>146</td>\n",
       "      <td>174</td>\n",
       "      <td>186</td>\n",
       "      <td>197</td>\n",
       "      <td>212</td>\n",
       "      <td>223</td>\n",
       "      <td>243</td>\n",
       "      <td>259</td>\n",
       "      <td>277</td>\n",
       "    </tr>\n",
       "    <tr>\n",
       "      <th>Algeria</th>\n",
       "      <td>0</td>\n",
       "      <td>0</td>\n",
       "      <td>0</td>\n",
       "      <td>0</td>\n",
       "      <td>0</td>\n",
       "      <td>0</td>\n",
       "      <td>0</td>\n",
       "      <td>0</td>\n",
       "      <td>0</td>\n",
       "      <td>0</td>\n",
       "      <td>...</td>\n",
       "      <td>264</td>\n",
       "      <td>302</td>\n",
       "      <td>367</td>\n",
       "      <td>409</td>\n",
       "      <td>454</td>\n",
       "      <td>511</td>\n",
       "      <td>584</td>\n",
       "      <td>716</td>\n",
       "      <td>847</td>\n",
       "      <td>986</td>\n",
       "    </tr>\n",
       "    <tr>\n",
       "      <th>Andorra</th>\n",
       "      <td>0</td>\n",
       "      <td>0</td>\n",
       "      <td>0</td>\n",
       "      <td>0</td>\n",
       "      <td>0</td>\n",
       "      <td>0</td>\n",
       "      <td>0</td>\n",
       "      <td>0</td>\n",
       "      <td>0</td>\n",
       "      <td>0</td>\n",
       "      <td>...</td>\n",
       "      <td>164</td>\n",
       "      <td>188</td>\n",
       "      <td>224</td>\n",
       "      <td>267</td>\n",
       "      <td>308</td>\n",
       "      <td>334</td>\n",
       "      <td>370</td>\n",
       "      <td>376</td>\n",
       "      <td>390</td>\n",
       "      <td>428</td>\n",
       "    </tr>\n",
       "    <tr>\n",
       "      <th>Angola</th>\n",
       "      <td>0</td>\n",
       "      <td>0</td>\n",
       "      <td>0</td>\n",
       "      <td>0</td>\n",
       "      <td>0</td>\n",
       "      <td>0</td>\n",
       "      <td>0</td>\n",
       "      <td>0</td>\n",
       "      <td>0</td>\n",
       "      <td>0</td>\n",
       "      <td>...</td>\n",
       "      <td>3</td>\n",
       "      <td>3</td>\n",
       "      <td>4</td>\n",
       "      <td>4</td>\n",
       "      <td>5</td>\n",
       "      <td>7</td>\n",
       "      <td>7</td>\n",
       "      <td>7</td>\n",
       "      <td>8</td>\n",
       "      <td>8</td>\n",
       "    </tr>\n",
       "  </tbody>\n",
       "</table>\n",
       "<p>5 rows × 72 columns</p>\n",
       "</div>"
      ],
      "text/plain": [
       "                1/22/20  1/23/20  1/24/20  1/25/20  1/26/20  1/27/20  1/28/20  \\\n",
       "Country/Region                                                                  \n",
       "Afghanistan           0        0        0        0        0        0        0   \n",
       "Albania               0        0        0        0        0        0        0   \n",
       "Algeria               0        0        0        0        0        0        0   \n",
       "Andorra               0        0        0        0        0        0        0   \n",
       "Angola                0        0        0        0        0        0        0   \n",
       "\n",
       "                1/29/20  1/30/20  1/31/20  ...  3/24/20  3/25/20  3/26/20  \\\n",
       "Country/Region                             ...                              \n",
       "Afghanistan           0        0        0  ...       74       84       94   \n",
       "Albania               0        0        0  ...      123      146      174   \n",
       "Algeria               0        0        0  ...      264      302      367   \n",
       "Andorra               0        0        0  ...      164      188      224   \n",
       "Angola                0        0        0  ...        3        3        4   \n",
       "\n",
       "                3/27/20  3/28/20  3/29/20  3/30/20  3/31/20  4/1/20  4/2/20  \n",
       "Country/Region                                                               \n",
       "Afghanistan         110      110      120      170      174     237     273  \n",
       "Albania             186      197      212      223      243     259     277  \n",
       "Algeria             409      454      511      584      716     847     986  \n",
       "Andorra             267      308      334      370      376     390     428  \n",
       "Angola                4        5        7        7        7       8       8  \n",
       "\n",
       "[5 rows x 72 columns]"
      ]
     },
     "execution_count": 6,
     "metadata": {},
     "output_type": "execute_result"
    }
   ],
   "source": [
    "# Cleaning the data\n",
    "\n",
    "confirmed = raw_confirmed.drop(['Lat','Long'], axis = 1)\n",
    "deaths = raw_deaths.drop(['Lat','Long'], axis = 1)\n",
    "recovered = raw_recovered.drop(['Lat','Long'], axis = 1)\n",
    "\n",
    "# Removing province information so we have consistent country-level resolution\n",
    "\n",
    "def set_country_res(df):\n",
    "\n",
    "    df_sans_provinces = df.drop('Province/State', axis=1)\n",
    "    df_sans_provinces = df_sans_provinces.groupby('Country/Region').sum()\n",
    "    \n",
    "    return df_sans_provinces\n",
    "\n",
    "confirmed = set_country_res(confirmed)\n",
    "deaths = set_country_res(deaths)\n",
    "recovered = set_country_res(recovered)\n",
    "\n",
    "confirmed.head()"
   ]
  },
  {
   "cell_type": "markdown",
   "metadata": {},
   "source": [
    "### Now let's visualize our data! We do this to make sure that our data is loaded in properly and matches our expectations -- if the data doesn't match you expectation you either made a mistake or a discovery (both are worth your time to find out early). As you work with data, remember to visualize early and often as a sanity check."
   ]
  },
  {
   "cell_type": "code",
   "execution_count": 7,
   "metadata": {},
   "outputs": [
    {
     "data": {
      "image/png": "[encoded data removed]",
      "text/plain": [
       "<Figure size 720x504 with 1 Axes>"
      ]
     },
     "metadata": {
      "needs_background": "light"
     },
     "output_type": "display_data"
    }
   ],
   "source": [
    "confirmed.columns = pd.to_datetime(confirmed.columns)\n",
    "\n",
    "plt.figure(figsize = (10,7))\n",
    "plt.xticks(rotation = 45)\n",
    "plt.plot(confirmed.columns, confirmed.loc['US'], label = 'US')\n",
    "plt.plot(confirmed.columns, confirmed.loc['China'], label = 'China')\n",
    "plt.plot(confirmed.columns, confirmed.loc['Spain'], label = 'Spain')\n",
    "plt.plot(confirmed.columns, confirmed.loc['Italy'], label = 'Italy')\n",
    "plt.plot(confirmed.columns, confirmed.loc['Brazil'], label = 'Brazil')\n",
    "plt.legend()\n",
    "\n",
    "# Set xaxis tick marks to be regular\n",
    "years_fmt = mdates.DateFormatter('%Y-%m-%d')\n",
    "plt.gca().xaxis.set_major_locator(plt.MultipleLocator(10))\n",
    "plt.gca().xaxis.set_major_formatter(years_fmt)\n",
    "plt.gca().xaxis.set_minor_locator(plt.MultipleLocator(1))\n",
    "\n",
    "plt.title('Cases Over Time')\n",
    "plt.show()"
   ]
  },
  {
   "cell_type": "markdown",
   "metadata": {},
   "source": [
    "### Gathering explanatory variables"
   ]
  },
  {
   "cell_type": "markdown",
   "metadata": {},
   "source": [
    "In this assignment we are trying to investigate causal relationships and correlations between COVID-19 country data and possible population statistics that could affect infection and death rates. So now, we will show you how to load and join possible explanatory variables. \n",
    "\n",
    "It has been shown that older individuals are at [higher risk of death due to COVID-19](https://www.cdc.gov/coronavirus/2019-ncov/need-extra-precautions/older-adults.html?CDC_AA_refVal=https%3A%2F%2Fwww.cdc.gov%2Fcoronavirus%2F2019-ncov%2Fspecific-groups%2Fhigh-risk-complications%2Folder-adults.html) so we decided to investigate if the median age of a country is correlated with its death rate as an example."
   ]
  },
  {
   "cell_type": "code",
   "execution_count": 8,
   "metadata": {},
   "outputs": [
    {
     "data": {
      "text/html": [
       "<div>\n",
       "<style scoped>\n",
       "    .dataframe tbody tr th:only-of-type {\n",
       "        vertical-align: middle;\n",
       "    }\n",
       "\n",
       "    .dataframe tbody tr th {\n",
       "        vertical-align: top;\n",
       "    }\n",
       "\n",
       "    .dataframe thead th {\n",
       "        text-align: right;\n",
       "    }\n",
       "</style>\n",
       "<table border=\"1\" class=\"dataframe\">\n",
       "  <thead>\n",
       "    <tr style=\"text-align: right;\">\n",
       "      <th></th>\n",
       "      <th>median_age</th>\n",
       "    </tr>\n",
       "    <tr>\n",
       "      <th>Country/Region</th>\n",
       "      <th></th>\n",
       "    </tr>\n",
       "  </thead>\n",
       "  <tbody>\n",
       "    <tr>\n",
       "      <th>Monaco</th>\n",
       "      <td>53.1</td>\n",
       "    </tr>\n",
       "    <tr>\n",
       "      <th>Japan</th>\n",
       "      <td>47.3</td>\n",
       "    </tr>\n",
       "    <tr>\n",
       "      <th>Germany</th>\n",
       "      <td>47.1</td>\n",
       "    </tr>\n",
       "    <tr>\n",
       "      <th>Saint Pierre and Miquelon</th>\n",
       "      <td>46.5</td>\n",
       "    </tr>\n",
       "    <tr>\n",
       "      <th>Italy</th>\n",
       "      <td>45.5</td>\n",
       "    </tr>\n",
       "  </tbody>\n",
       "</table>\n",
       "</div>"
      ],
      "text/plain": [
       "                           median_age\n",
       "Country/Region                       \n",
       "Monaco                           53.1\n",
       "Japan                            47.3\n",
       "Germany                          47.1\n",
       "Saint Pierre and Miquelon        46.5\n",
       "Italy                            45.5"
      ]
     },
     "execution_count": 8,
     "metadata": {},
     "output_type": "execute_result"
    }
   ],
   "source": [
    "# Load median age data\n",
    "median_age = pd.read_csv('median_age.csv')\n",
    "median_age.drop(['Median Male','Median Female'], axis=1, inplace=True)\n",
    "median_age.rename(columns={'Median':'median_age', 'Place':'Country/Region'},inplace=True)\n",
    "median_age.set_index('Country/Region', drop = True, inplace=True)\n",
    "median_age.head()"
   ]
  },
  {
   "cell_type": "markdown",
   "metadata": {},
   "source": [
    "We can now calculate the death rate for each country. To do this we decided to use \n",
    "\n",
    "$death \\; rate = \\frac{deaths}{confirmed \\; cases}$\n",
    "\n",
    "because at the time of writing this assignment, the number of resolved cases was very low and likely underreported. If we had better data, a more accurate representation of the death rate would be to use resolved cases in the denominator (where $resolved \\; cases = recovered + deaths$)\n",
    "\n"
   ]
  },
  {
   "cell_type": "code",
   "execution_count": 9,
   "metadata": {},
   "outputs": [],
   "source": [
    "# Calculate death rate for each country\n",
    "# Get most recent numbers for recovered and deaths (last column in the data table)\n",
    "total_confirmed = confirmed[confirmed.columns[-1]]\n",
    "total_deaths = deaths[deaths.columns[-1]]\n",
    "\n",
    "death_rate = pd.Series(dtype = float)\n",
    "\n",
    "# Calculating death rate\n",
    "if (total_deaths.index == total_confirmed.index).all():\n",
    "    death_rate = total_deaths/(total_confirmed + total_deaths)\n",
    "else:\n",
    "    print('Whoops, looks like your countries dont match')\n",
    "\n",
    "# Drop countries that have a null death rate (don't have any cases)\n",
    "death_rate.dropna(inplace=True)\n",
    "\n",
    "death_rate = pd.DataFrame(death_rate)\n",
    "death_rate.rename(columns={death_rate.columns[0]:'death_rate'},inplace=True)"
   ]
  },
  {
   "cell_type": "markdown",
   "metadata": {},
   "source": [
    "A useful tool when working with multiple data tables is the merge function. This function merges two data tables (or columns from data tables) on a column or index of your choosing. One must be careful when merging because you can easily lose or multiply your data because of duplicate or mismatching keys. For this reason, it is important to always check the size of your new data table compared to the old ones. \n",
    "\n",
    "You can find more information about the pandas merge function [here](https://pandas.pydata.org/pandas-docs/stable/reference/api/pandas.DataFrame.merge.html) and a more in depth explanation of merges [here](https://www.shanelynn.ie/merge-join-dataframes-python-pandas-index-1/)."
   ]
  },
  {
   "cell_type": "code",
   "execution_count": 10,
   "metadata": {},
   "outputs": [
    {
     "data": {
      "text/html": [
       "<div>\n",
       "<style scoped>\n",
       "    .dataframe tbody tr th:only-of-type {\n",
       "        vertical-align: middle;\n",
       "    }\n",
       "\n",
       "    .dataframe tbody tr th {\n",
       "        vertical-align: top;\n",
       "    }\n",
       "\n",
       "    .dataframe thead th {\n",
       "        text-align: right;\n",
       "    }\n",
       "</style>\n",
       "<table border=\"1\" class=\"dataframe\">\n",
       "  <thead>\n",
       "    <tr style=\"text-align: right;\">\n",
       "      <th></th>\n",
       "      <th>median_age</th>\n",
       "      <th>death_rate</th>\n",
       "    </tr>\n",
       "    <tr>\n",
       "      <th>Country/Region</th>\n",
       "      <th></th>\n",
       "      <th></th>\n",
       "    </tr>\n",
       "  </thead>\n",
       "  <tbody>\n",
       "    <tr>\n",
       "      <th>Monaco</th>\n",
       "      <td>53.1</td>\n",
       "      <td>0.016393</td>\n",
       "    </tr>\n",
       "    <tr>\n",
       "      <th>Japan</th>\n",
       "      <td>47.3</td>\n",
       "      <td>0.024247</td>\n",
       "    </tr>\n",
       "    <tr>\n",
       "      <th>Germany</th>\n",
       "      <td>47.1</td>\n",
       "      <td>0.012887</td>\n",
       "    </tr>\n",
       "    <tr>\n",
       "      <th>Italy</th>\n",
       "      <td>45.5</td>\n",
       "      <td>0.107737</td>\n",
       "    </tr>\n",
       "    <tr>\n",
       "      <th>Slovenia</th>\n",
       "      <td>44.5</td>\n",
       "      <td>0.018600</td>\n",
       "    </tr>\n",
       "    <tr>\n",
       "      <th>...</th>\n",
       "      <td>...</td>\n",
       "      <td>...</td>\n",
       "    </tr>\n",
       "    <tr>\n",
       "      <th>Malawi</th>\n",
       "      <td>16.5</td>\n",
       "      <td>0.000000</td>\n",
       "    </tr>\n",
       "    <tr>\n",
       "      <th>Angola</th>\n",
       "      <td>15.9</td>\n",
       "      <td>0.200000</td>\n",
       "    </tr>\n",
       "    <tr>\n",
       "      <th>Uganda</th>\n",
       "      <td>15.8</td>\n",
       "      <td>0.000000</td>\n",
       "    </tr>\n",
       "    <tr>\n",
       "      <th>Mali</th>\n",
       "      <td>15.8</td>\n",
       "      <td>0.076923</td>\n",
       "    </tr>\n",
       "    <tr>\n",
       "      <th>Niger</th>\n",
       "      <td>15.4</td>\n",
       "      <td>0.048544</td>\n",
       "    </tr>\n",
       "  </tbody>\n",
       "</table>\n",
       "<p>163 rows × 2 columns</p>\n",
       "</div>"
      ],
      "text/plain": [
       "                median_age  death_rate\n",
       "Country/Region                        \n",
       "Monaco                53.1    0.016393\n",
       "Japan                 47.3    0.024247\n",
       "Germany               47.1    0.012887\n",
       "Italy                 45.5    0.107737\n",
       "Slovenia              44.5    0.018600\n",
       "...                    ...         ...\n",
       "Malawi                16.5    0.000000\n",
       "Angola                15.9    0.200000\n",
       "Uganda                15.8    0.000000\n",
       "Mali                  15.8    0.076923\n",
       "Niger                 15.4    0.048544\n",
       "\n",
       "[163 rows x 2 columns]"
      ]
     },
     "execution_count": 10,
     "metadata": {},
     "output_type": "execute_result"
    }
   ],
   "source": [
    "# Merging death rate and median age \n",
    "naive_merge = median_age.merge(death_rate,left_index=True, right_index=True)\n",
    "naive_merge\n"
   ]
  },
  {
   "cell_type": "markdown",
   "metadata": {},
   "source": [
    "We called our first merge a naive merge because we made the assumption that our two different data sources had all the same countries and named the countries the same. We will check that assumption in the next cell."
   ]
  },
  {
   "cell_type": "code",
   "execution_count": 11,
   "metadata": {},
   "outputs": [
    {
     "name": "stdout",
     "output_type": "stream",
     "text": [
      "We lost 18 countries in our naive merge\n"
     ]
    },
    {
     "data": {
      "text/html": [
       "<div>\n",
       "<style scoped>\n",
       "    .dataframe tbody tr th:only-of-type {\n",
       "        vertical-align: middle;\n",
       "    }\n",
       "\n",
       "    .dataframe tbody tr th {\n",
       "        vertical-align: top;\n",
       "    }\n",
       "\n",
       "    .dataframe thead th {\n",
       "        text-align: right;\n",
       "    }\n",
       "</style>\n",
       "<table border=\"1\" class=\"dataframe\">\n",
       "  <thead>\n",
       "    <tr style=\"text-align: right;\">\n",
       "      <th></th>\n",
       "      <th>median_age</th>\n",
       "      <th>death_rate</th>\n",
       "    </tr>\n",
       "    <tr>\n",
       "      <th>Country/Region</th>\n",
       "      <th></th>\n",
       "      <th></th>\n",
       "    </tr>\n",
       "  </thead>\n",
       "  <tbody>\n",
       "    <tr>\n",
       "      <th>Bahamas</th>\n",
       "      <td>NaN</td>\n",
       "      <td>0.040000</td>\n",
       "    </tr>\n",
       "    <tr>\n",
       "      <th>Burma</th>\n",
       "      <td>NaN</td>\n",
       "      <td>0.047619</td>\n",
       "    </tr>\n",
       "    <tr>\n",
       "      <th>Cabo Verde</th>\n",
       "      <td>NaN</td>\n",
       "      <td>0.142857</td>\n",
       "    </tr>\n",
       "    <tr>\n",
       "      <th>Congo (Brazzaville)</th>\n",
       "      <td>NaN</td>\n",
       "      <td>0.083333</td>\n",
       "    </tr>\n",
       "    <tr>\n",
       "      <th>Congo (Kinshasa)</th>\n",
       "      <td>NaN</td>\n",
       "      <td>0.088435</td>\n",
       "    </tr>\n",
       "    <tr>\n",
       "      <th>Cote d'Ivoire</th>\n",
       "      <td>NaN</td>\n",
       "      <td>0.005128</td>\n",
       "    </tr>\n",
       "    <tr>\n",
       "      <th>Czechia</th>\n",
       "      <td>NaN</td>\n",
       "      <td>0.011276</td>\n",
       "    </tr>\n",
       "    <tr>\n",
       "      <th>Diamond Princess</th>\n",
       "      <td>NaN</td>\n",
       "      <td>0.015214</td>\n",
       "    </tr>\n",
       "    <tr>\n",
       "      <th>Eswatini</th>\n",
       "      <td>NaN</td>\n",
       "      <td>0.000000</td>\n",
       "    </tr>\n",
       "    <tr>\n",
       "      <th>Gambia</th>\n",
       "      <td>NaN</td>\n",
       "      <td>0.200000</td>\n",
       "    </tr>\n",
       "    <tr>\n",
       "      <th>Holy See</th>\n",
       "      <td>NaN</td>\n",
       "      <td>0.000000</td>\n",
       "    </tr>\n",
       "    <tr>\n",
       "      <th>Korea, South</th>\n",
       "      <td>NaN</td>\n",
       "      <td>0.016658</td>\n",
       "    </tr>\n",
       "    <tr>\n",
       "      <th>Kosovo</th>\n",
       "      <td>NaN</td>\n",
       "      <td>0.007937</td>\n",
       "    </tr>\n",
       "    <tr>\n",
       "      <th>MS Zaandam</th>\n",
       "      <td>NaN</td>\n",
       "      <td>0.181818</td>\n",
       "    </tr>\n",
       "    <tr>\n",
       "      <th>North Macedonia</th>\n",
       "      <td>NaN</td>\n",
       "      <td>0.027848</td>\n",
       "    </tr>\n",
       "    <tr>\n",
       "      <th>Taiwan*</th>\n",
       "      <td>NaN</td>\n",
       "      <td>0.014535</td>\n",
       "    </tr>\n",
       "    <tr>\n",
       "      <th>US</th>\n",
       "      <td>NaN</td>\n",
       "      <td>0.023763</td>\n",
       "    </tr>\n",
       "    <tr>\n",
       "      <th>West Bank and Gaza</th>\n",
       "      <td>NaN</td>\n",
       "      <td>0.006173</td>\n",
       "    </tr>\n",
       "  </tbody>\n",
       "</table>\n",
       "</div>"
      ],
      "text/plain": [
       "                     median_age  death_rate\n",
       "Country/Region                             \n",
       "Bahamas                     NaN    0.040000\n",
       "Burma                       NaN    0.047619\n",
       "Cabo Verde                  NaN    0.142857\n",
       "Congo (Brazzaville)         NaN    0.083333\n",
       "Congo (Kinshasa)            NaN    0.088435\n",
       "Cote d'Ivoire               NaN    0.005128\n",
       "Czechia                     NaN    0.011276\n",
       "Diamond Princess            NaN    0.015214\n",
       "Eswatini                    NaN    0.000000\n",
       "Gambia                      NaN    0.200000\n",
       "Holy See                    NaN    0.000000\n",
       "Korea, South                NaN    0.016658\n",
       "Kosovo                      NaN    0.007937\n",
       "MS Zaandam                  NaN    0.181818\n",
       "North Macedonia             NaN    0.027848\n",
       "Taiwan*                     NaN    0.014535\n",
       "US                          NaN    0.023763\n",
       "West Bank and Gaza          NaN    0.006173"
      ]
     },
     "execution_count": 11,
     "metadata": {},
     "output_type": "execute_result"
    }
   ],
   "source": [
    "# Finding how many countries we lost in our naive merge\n",
    "print(f'We lost {death_rate.shape[0] - naive_merge.shape[0]} countries in our naive merge')\n",
    "\n",
    "# Finding the countries we lost\n",
    "right_merge = median_age.merge(death_rate,left_index=True, right_index=True, how='right')\n",
    "right_merge[right_merge.median_age.isnull()]"
   ]
  },
  {
   "cell_type": "markdown",
   "metadata": {},
   "source": [
    "Of the countries that we lost, we are going to add back the US and South Korea (which is called 'Korea, South' in the data set for some reason). To do this, we simply need to make the names match. "
   ]
  },
  {
   "cell_type": "code",
   "execution_count": 12,
   "metadata": {},
   "outputs": [
    {
     "name": "stdout",
     "output_type": "stream",
     "text": [
      "We lost 16 countries in our merge\n"
     ]
    }
   ],
   "source": [
    "# To find the corresponding names in the median_age table, we guessed the obvious names \n",
    "# and they worked: 'United States' and 'South Korea'\n",
    "\n",
    "# But if you can't find a name you can try this\n",
    "# for country in median_age.index:\n",
    "#     print(country)\n",
    "\n",
    "# Now we will rename them in the median_age data (so it is consistent with the rest of our data)\n",
    "median_age.rename(index={'United States':'US','South Korea':'Korea, South'}, inplace=True)\n",
    "\n",
    "# Redoing our merge\n",
    "deaths_and_age = median_age.merge(death_rate,left_index=True, right_index=True)\n",
    "\n",
    "# Make sure it worked, we should have 2 fewer missing countries\n",
    "print(f'We lost {death_rate.shape[0] - deaths_and_age.shape[0]} countries in our merge')\n",
    "\n"
   ]
  },
  {
   "cell_type": "markdown",
   "metadata": {},
   "source": [
    "### Now that we have workable data let's visualize it."
   ]
  },
  {
   "cell_type": "code",
   "execution_count": 13,
   "metadata": {},
   "outputs": [
    {
     "data": {
      "image/png": "[encoded data removed]",
      "text/plain": [
       "<Figure size 432x288 with 1 Axes>"
      ]
     },
     "metadata": {
      "needs_background": "light"
     },
     "output_type": "display_data"
    }
   ],
   "source": [
    "plt.scatter(deaths_and_age.median_age, deaths_and_age.death_rate, color='darkorange')\n",
    "plt.ylabel('Death Rate')\n",
    "plt.xlabel('Median Age')\n",
    "plt.title('Death Rate vs. Median Age')\n",
    "plt.show()"
   ]
  },
  {
   "cell_type": "markdown",
   "metadata": {},
   "source": [
    "### Based on our initial scatter plot a linear relationship doesn't look super promising but let's try it anyway\n",
    "\n",
    "You can find more information about the package we used for the linear regression [here](https://docs.scipy.org/doc/scipy/reference/generated/scipy.stats.linregress.html)."
   ]
  },
  {
   "cell_type": "code",
   "execution_count": 14,
   "metadata": {},
   "outputs": [
    {
     "name": "stdout",
     "output_type": "stream",
     "text": [
      "p-values: 0.35339370626947875\n",
      "R^2: 0.005285847299216592\n",
      "Slope: -0.00032013215700298314\n"
     ]
    },
    {
     "data": {
      "image/png": "[encoded data removed]",
      "text/plain": [
       "<Figure size 432x288 with 1 Axes>"
      ]
     },
     "metadata": {
      "needs_background": "light"
     },
     "output_type": "display_data"
    }
   ],
   "source": [
    "# Linear regression using scipy\n",
    "slope, intercept, r_value, p_value, std_err = stats.linregress(deaths_and_age.median_age, deaths_and_age.death_rate)\n",
    "predictions = np.linspace(15,55,5) * slope + intercept\n",
    "print(f'p-values: {p_value}')\n",
    "print(f'R^2: {r_value*r_value}')\n",
    "print(f'Slope: {slope}')\n",
    "\n",
    "# Plot Results\n",
    "plt.scatter(deaths_and_age.median_age, deaths_and_age.death_rate)\n",
    "plt.plot(np.linspace(15,55,5), predictions)\n",
    "plt.show()\n"
   ]
  },
  {
   "cell_type": "markdown",
   "metadata": {},
   "source": [
    "As we predicted, our linear regression was not successful (as of the writing of this assignment). We encourage you to do your own research on methods of assessing regressions if you don't already have experience in this area and the grutors are happy to talk about it as well. Our regression above is likely an example of 'garbage in, garbage out'. This means that you can't get good information from bad data and coronavirus data is anything but consistent across countries, so you need to be careful about conclusions you draw from your analysis.\n",
    "\n",
    "Now we have to ask ourselves if we truly believe that age is not a factor in death rate or if our data is misrepresenting reality. Now this is where you come in. You may have noticed that some countries have extremely high death rates that are inconsistent with what we know about the virus. This is likely because the sample size is far too small and furthermore is biased towards critical cases due to a lack of testing. While we can't fix the testing problem, we can try to make the data more reliable by filtering based on sample size. \n",
    "\n",
    "Your first task is to filter the data based on a minimum sample size that you deem appropriate (we chose 1000 on March 28th) then re-run the regression and interpret the results. Don't worry if you don't get statistically significant/logical results. \n",
    "\n",
    "__Don't forget to save important graphs and statistics for your deliverable.__\n"
   ]
  },
  {
   "cell_type": "markdown",
   "metadata": {},
   "source": [
    "## Task 1: Filter on Sample Size and Re-Run Regression\n"
   ]
  },
  {
   "cell_type": "code",
   "execution_count": 15,
   "metadata": {},
   "outputs": [
    {
     "data": {
      "text/plain": [
       "count       181.000000\n",
       "mean       5597.552486\n",
       "std       23883.385484\n",
       "min           1.000000\n",
       "25%          20.000000\n",
       "50%         233.000000\n",
       "75%        1317.000000\n",
       "max      243453.000000\n",
       "Name: 2020-04-02 00:00:00, dtype: float64"
      ]
     },
     "execution_count": 15,
     "metadata": {},
     "output_type": "execute_result"
    }
   ],
   "source": [
    "# Get an idea of the numbers of resolved cases for most countries\n",
    "total_confirmed.describe()"
   ]
  },
  {
   "cell_type": "code",
   "execution_count": 16,
   "metadata": {},
   "outputs": [
    {
     "name": "stdout",
     "output_type": "stream",
     "text": [
      "We lost 1 countries in our naive merge\n",
      "We lost 0 countries in our merge\n"
     ]
    },
    {
     "data": {
      "image/png": "[encoded data removed]",
      "text/plain": [
       "<Figure size 432x288 with 1 Axes>"
      ]
     },
     "metadata": {
      "needs_background": "light"
     },
     "output_type": "display_data"
    }
   ],
   "source": [
    "# Calculate death rate for each country\n",
    "# Get most recent numbers for recovered and deaths (last column in the data table)\n",
    "death_rate = pd.Series(dtype = float)\n",
    "# Filter by the sample size of 1000 \n",
    "filtered_confirmed = total_confirmed[total_confirmed > 1000]\n",
    "filtered_deaths = total_deaths[total_deaths.index.isin(filtered_confirmed.index)]\n",
    "\n",
    "death2_rate = pd.Series(dtype = float)\n",
    "\n",
    "# Calculating death rate\n",
    "if (filtered_deaths.index == filtered_confirmed.index).all():\n",
    "    death2_rate = filtered_deaths/(filtered_confirmed + filtered_deaths)\n",
    "else:\n",
    "    print('Whoops, looks like your countries dont match')\n",
    "\n",
    "# Drop countries that have a null death rate (don't have any cases)\n",
    "death2_rate.dropna(inplace=True)\n",
    "\n",
    "death2_rate = pd.DataFrame(death2_rate)\n",
    "death2_rate.rename(columns={death2_rate.columns[0]:'death_rate'},inplace=True)\n",
    "\n",
    "# Merging death rate and median age \n",
    "naive2_merge = median_age.merge(death2_rate,left_index=True, right_index=True)\n",
    "\n",
    "# Finding how many countries we lost in our naive merge\n",
    "print(f'We lost {death2_rate.shape[0] - naive2_merge.shape[0]} countries in our naive merge')\n",
    "\n",
    "# Finding the countries we lost\n",
    "right_merge = median_age.merge(death2_rate,left_index=True, right_index=True, how='right')\n",
    "right_merge[right_merge.median_age.isnull()]\n",
    "\n",
    "# Now we will rename them in the median_age data (so it is consistent with the rest of our data)\n",
    "median_age.rename(index={'Czech Republic':'Czechia'}, inplace=True)\n",
    "# Redoing our merge\n",
    "deaths2_and_age = median_age.merge(death2_rate,left_index=True, right_index=True)\n",
    "\n",
    "# Make sure it worked, we should have 2 fewer missing countries\n",
    "print(f'We lost {death2_rate.shape[0] - deaths2_and_age.shape[0]} countries in our merge')\n",
    "\n",
    "plt.scatter(deaths2_and_age.median_age, deaths2_and_age.death_rate, color='darkorange')\n",
    "plt.ylabel('Death Rate')\n",
    "plt.xlabel('Median Age')\n",
    "plt.title('Death Rate vs. Median Age')\n",
    "plt.show()\n"
   ]
  },
  {
   "cell_type": "code",
   "execution_count": 17,
   "metadata": {},
   "outputs": [
    {
     "name": "stdout",
     "output_type": "stream",
     "text": [
      "p-values: 0.2626107312969402\n",
      "R^2: 0.02503189765307188\n",
      "Slope: 0.0006084849030462419\n"
     ]
    },
    {
     "data": {
      "image/png": "[encoded data removed]",
      "text/plain": [
       "<Figure size 432x288 with 1 Axes>"
      ]
     },
     "metadata": {
      "needs_background": "light"
     },
     "output_type": "display_data"
    }
   ],
   "source": [
    "# Linear regression using scipy\n",
    "slope, intercept, r_value, p_value, std_err = stats.linregress(deaths2_and_age.median_age, deaths2_and_age.death_rate)\n",
    "predictions = np.linspace(15,55,5) * slope + intercept\n",
    "print(f'p-values: {p_value}')\n",
    "print(f'R^2: {r_value*r_value}')\n",
    "print(f'Slope: {slope}')\n",
    "\n",
    "# Plot Results\n",
    "plt.scatter(deaths2_and_age.median_age, deaths2_and_age.death_rate)\n",
    "plt.plot(np.linspace(15,55,5), predictions)\n",
    "plt.show()"
   ]
  },
  {
   "cell_type": "markdown",
   "metadata": {},
   "source": [
    "Once again, we fail to see a relationship between median age and death rate. Although, the results we find here, although inconclusive, is more in line with the prediction that older people are more affected by it as we see a positive slope which means that death rate increases as median age increases. Unfortunately, our p-value is greater than 0.05 so this result is not statistically significant. \n"
   ]
  },
  {
   "cell_type": "markdown",
   "metadata": {},
   "source": [
    "## Task 2: Find Your Own Data\n",
    "Now, armed with the code above, you should pose a research question, find and download your own data from the internet, import it and run regressions (at least 2) to investigate your question. For each regression, write what you expect the relationship to be before you run the regression, graph the data, discuss how your results support/refute your initial hypothesis, and what you would need to be more sure of your results. \n",
    "\n",
    "You are welcome to continue working at a global scale, but there is also state by state data (and even county level data) in the United States which might yield more interesting results [here](https://covidtracking.com/?fbclid=IwAR3WwZ1nX8qhwJkAi1uYahgpyV94V3xPs0v_RzBBycMPB7p01DMKyDcc9Bk).\n",
    "\n",
    "There is a wealth of demographic data on the internet that you can couple with the COVID-19 data. You don't need to limit yourself to looking at the death rate, but you can look at any trends with respect to COVID-19 you find interesting.\n",
    "\n",
    "You can run linear regressions, transform your data (to fit an exponential or quadratic function, for example), run a Multiple Linear Regression, or anything else the questions you want to answer require. Feel free to use all internet resources (as long as you don't copy graphs and results), and the grutors are happy to answer any questions you have.\n",
    "\n",
    "### Make sure to save graphs and statistics!"
   ]
  },
  {
   "cell_type": "markdown",
   "metadata": {},
   "source": [
    "Here, I would like to further investigate causal relationships and correlations between the U.S. COVID-19 data and possible population statistics that could affect death rates. I decided to test death rate against median household income. I was wondering if those living in poorer areas had less access to healthcare, food or testing and maybe those in higher income areas could easily afford the healthcare if necessary. So let's explore this relationship. To find this information, I downloaded a dataset from [here](https://worldpopulationreview.com/states/median-household-income-by-state/) which gave the population and median household information of every state in the US. I also downloaded this data which gave the counts of confirmed cases and deaths in each state and county from [here](https://codeload.github.com/nytimes/covid-19-data/zip/master). "
   ]
  },
  {
   "cell_type": "code",
   "execution_count": 34,
   "metadata": {},
   "outputs": [],
   "source": [
    "# Let's load in our data for counts per state and county\n",
    "raw_states = pd.read_csv('us-states.csv')\n",
    "states = raw_states.drop(['fips'], axis = 1)\n",
    "raw_counties = pd.read_csv('us-counties.csv')\n",
    "counties = raw_counties.drop(['fips'], axis = 1)\n",
    "states = states.groupby('state').sum()"
   ]
  },
  {
   "cell_type": "code",
   "execution_count": 35,
   "metadata": {},
   "outputs": [],
   "source": [
    "# Load median income per state\n",
    "data_raw = pd.read_csv('data.csv')\n",
    "median_income = data_raw.drop(['rank','Population'],axis=1)\n",
    "median_income.rename(columns={'HouseholdIncome':'median_income', 'State':'state'},inplace=True)\n",
    "median_income.set_index('state', drop = True, inplace=True)"
   ]
  },
  {
   "cell_type": "markdown",
   "metadata": {},
   "source": [
    "Now, we want to calculate the death rate at each state and merge the death rate with the median income data frame. We then remove any states lost in the merge, in this case the median income dataset did not include the U.S. territories and so we want to remove them. "
   ]
  },
  {
   "cell_type": "code",
   "execution_count": 40,
   "metadata": {},
   "outputs": [],
   "source": [
    "# Calculate death rate for each state\n",
    "# Get most recent numbers for recovered and deaths (last column in the data table)\n",
    "total_confirmed = states[states.columns[-2]]\n",
    "total_deaths = states[states.columns[-1]]\n",
    "death_rate = pd.Series(dtype = float)\n",
    "\n",
    "# Calculating death rate\n",
    "if (total_deaths.index == total_confirmed.index).all():\n",
    "    death_rate = total_deaths/(total_confirmed + total_deaths)\n",
    "else:\n",
    "    print('Whoops, looks like your countries dont match')\n",
    "\n",
    "death_rate = pd.DataFrame(death_rate)\n",
    "death_rate.rename(columns={death_rate.columns[0]:'death_rate'},inplace=True)"
   ]
  },
  {
   "cell_type": "code",
   "execution_count": 41,
   "metadata": {},
   "outputs": [
    {
     "name": "stdout",
     "output_type": "stream",
     "text": [
      "We lost 4 states in our naive merge\n"
     ]
    }
   ],
   "source": [
    "# Merging death rate and median income \n",
    "ID_merge = median_income.merge(death_rate,left_index=True, right_index=True)\n",
    "\n",
    "# Finding how many states we lost in our naive merge\n",
    "print(f'We lost {death_rate.shape[0] - ID_merge.shape[0]} states in our naive merge')\n",
    "\n",
    "# Finding the states we lost\n",
    "right_merge = median_income.merge(death_rate,left_index=True, right_index=True, how='right')\n",
    "right_merge[right_merge.median_income.isnull()]\n",
    "\n",
    "# Redoing our merge\n",
    "deaths_and_income = median_income.merge(death_rate,left_index=True, right_index=True)\n"
   ]
  },
  {
   "cell_type": "markdown",
   "metadata": {},
   "source": [
    "Now, we can plot our death rates against median income. It seems that there isn't an obvious relationship between the two variables and when we run a linear regression between the two, it becomes evident that there is no statistically significant relationship between the two variables. I think one reason it failed is because each state has such a large disparity and so I wanted to repeat this with the counties data, however, I could not find a dataset for median household income by county for 2020."
   ]
  },
  {
   "cell_type": "code",
   "execution_count": 42,
   "metadata": {},
   "outputs": [
    {
     "data": {
      "image/png": "[encoded data removed]",
      "text/plain": [
       "<Figure size 432x288 with 1 Axes>"
      ]
     },
     "metadata": {
      "needs_background": "light"
     },
     "output_type": "display_data"
    }
   ],
   "source": [
    "plt.scatter(deaths_and_income.median_income, deaths_and_income.death_rate, color='darkorange')\n",
    "plt.ylabel('Death Rate')\n",
    "plt.xlabel('Median Income')\n",
    "plt.title('Death Rate vs. Median Income')\n",
    "plt.show()"
   ]
  },
  {
   "cell_type": "code",
   "execution_count": 43,
   "metadata": {},
   "outputs": [
    {
     "name": "stdout",
     "output_type": "stream",
     "text": [
      "p-values: 0.47186587160656357\n",
      "R^2: 0.010614827554308976\n",
      "Slope: -9.34566357925243e-08\n"
     ]
    },
    {
     "data": {
      "image/png": "[encoded data removed]",
      "text/plain": [
       "<Figure size 432x288 with 1 Axes>"
      ]
     },
     "metadata": {
      "needs_background": "light"
     },
     "output_type": "display_data"
    }
   ],
   "source": [
    "# Linear regression using scipy\n",
    "slope, intercept, r_value, p_value, std_err = stats.linregress(deaths_and_income.median_income, deaths_and_income.death_rate)\n",
    "predictions = np.linspace(0,85000,5) * slope + intercept\n",
    "print(f'p-values: {p_value}')\n",
    "print(f'R^2: {r_value*r_value}')\n",
    "print(f'Slope: {slope}')\n",
    "\n",
    "# Plot Results\n",
    "plt.scatter(deaths_and_income.median_income, deaths_and_income.death_rate)\n",
    "plt.plot(np.linspace(0,85000,5), predictions)\n",
    "plt.show()"
   ]
  },
  {
   "cell_type": "markdown",
   "metadata": {},
   "source": [
    "Now let's try finding a relationship between the population size and the death rates. I wanted to see if having a denser and more populated state would have an effect on death rates as a larger population would mean a higher chance of contact, making transmission easier. Having a larger population could also overflow healthcare services in the event of a pandemic. So we repeat the steps we did previously. "
   ]
  },
  {
   "cell_type": "code",
   "execution_count": 44,
   "metadata": {},
   "outputs": [],
   "source": [
    "# Load population size per state\n",
    "population = data_raw.drop(['rank','HouseholdIncome'],axis=1)\n",
    "population.rename(columns={'HouseholdIncome':'median_income', 'State':'state'},inplace=True)\n",
    "population.set_index('state', drop = True, inplace=True)"
   ]
  },
  {
   "cell_type": "code",
   "execution_count": 45,
   "metadata": {},
   "outputs": [
    {
     "name": "stdout",
     "output_type": "stream",
     "text": [
      "We lost 4 states in our naive merge\n"
     ]
    }
   ],
   "source": [
    "# Merging death rate and median income \n",
    "pop_merge = population.merge(death_rate,left_index=True, right_index=True)\n",
    "\n",
    "# Finding how many states we lost in our naive merge\n",
    "print(f'We lost {death_rate.shape[0] - pop_merge.shape[0]} states in our naive merge')\n",
    "\n",
    "# Finding the states we lost\n",
    "right_merge = population.merge(death_rate,left_index=True, right_index=True, how='right')\n",
    "right_merge[right_merge.Population.isnull()]\n",
    "\n",
    "# Redoing our merge\n",
    "deaths_and_pop = population.merge(death_rate,left_index=True, right_index=True)"
   ]
  },
  {
   "cell_type": "markdown",
   "metadata": {},
   "source": [
    "Once again we see no statistically significant relationship between the two variables. As mentioned previously, I think that a big part of why we don't see a significant relationship may be because the state data is not informative enough and that using county data may give us more information. Ex. new york city is extremely dense and populated but New York also has states like Ithaca with a much smaller and less dense population. Another variable I would try to use in the future would also be population density. Ex. Singapore would have a small population but an extremely large population density considering its land size. "
   ]
  },
  {
   "cell_type": "code",
   "execution_count": 46,
   "metadata": {},
   "outputs": [
    {
     "data": {
      "image/png": "[encoded data removed]",
      "text/plain": [
       "<Figure size 432x288 with 1 Axes>"
      ]
     },
     "metadata": {
      "needs_background": "light"
     },
     "output_type": "display_data"
    }
   ],
   "source": [
    "plt.scatter(deaths_and_pop.Population, deaths_and_pop.death_rate, color='darkorange')\n",
    "plt.ylabel('Death Rate')\n",
    "plt.xlabel('Population')\n",
    "plt.title('Death Rate vs. Population')\n",
    "plt.show()"
   ]
  },
  {
   "cell_type": "code",
   "execution_count": 47,
   "metadata": {},
   "outputs": [
    {
     "name": "stdout",
     "output_type": "stream",
     "text": [
      "p-values: 0.4392361108775047\n",
      "R^2: 0.012259064078825455\n",
      "Slope: 1.430054558205904e-10\n"
     ]
    },
    {
     "data": {
      "image/png": "[encoded data removed]",
      "text/plain": [
       "<Figure size 432x288 with 1 Axes>"
      ]
     },
     "metadata": {
      "needs_background": "light"
     },
     "output_type": "display_data"
    }
   ],
   "source": [
    "# Linear regression using scipy\n",
    "slope, intercept, r_value, p_value, std_err = stats.linregress(deaths_and_pop.Population, deaths_and_pop.death_rate)\n",
    "predictions = np.linspace(0.0,4e7,5) * slope + intercept\n",
    "print(f'p-values: {p_value}')\n",
    "print(f'R^2: {r_value*r_value}')\n",
    "print(f'Slope: {slope}')\n",
    "\n",
    "# Plot Results\n",
    "plt.scatter(deaths_and_pop.Population, deaths_and_pop.death_rate)\n",
    "plt.plot(np.linspace(0.0,4e7,5), predictions)\n",
    "plt.show()"
   ]
  },
  {
   "cell_type": "markdown",
   "metadata": {},
   "source": [
    "## Task 3:\n",
    "#### A few sentences describing why you decided to take this course/what you were hoping to get from it.\n",
    "I was hoping to learn a bit about data analysis. I've taken stats classes before so I feel that I have learned a some basic statistical concepts but I don't feel that I've done enough data wrangling and applications of these concepts. I'm also interested in healthcare and this pandemic situation we are in so I think this is a good opportunity for me to pursue my interests while applying what I've learnd in the past. \n",
    "\n",
    "#### How long it took you to complete this assignment\n",
    "It took me around 4 hours because this is my first time using Jupyter notebook and pandas so reading documentation took a bit of time. Although most of my time was trying to find a dataset I could use for my research question. Originally I wanted to explore the relationship between weather and deaths but I could not get good weather data and once I got it, I didn't know how to make it usable so I had to give up on it as it was taking too much time. "
   ]
  }
 ],
 "metadata": {
  "kernelspec": {
   "display_name": "Python 3",
   "language": "python",
   "name": "python3"
  },
  "language_info": {
   "codemirror_mode": {
    "name": "ipython",
    "version": 3
   },
   "file_extension": ".py",
   "mimetype": "text/x-python",
   "name": "python",
   "nbconvert_exporter": "python",
   "pygments_lexer": "ipython3",
   "version": "3.7.6"
  }
 },
 "nbformat": 4,
 "nbformat_minor": 2
}
